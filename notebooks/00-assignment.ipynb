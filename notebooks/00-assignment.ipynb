{
 "cells": [
  {
   "cell_type": "markdown",
   "metadata": {},
   "source": [
    "### 1. Python: Download a timeseries of daily deaths per country\n",
    "[Refer to repo](https://github.com/keatmin/covid19-deaths) and the script is in `src/download_csv.py`, if cloned repo make sure \n",
    "`download_data.sh` is executable by running `sudo chmod 755 download_data.sh` in terminal. Then `./download_csv.sh` in terminal\n",
    "\n",
    "\n",
    "```python \n",
    "\n",
    "import requests\n",
    "URL = 'https://raw.githubusercontent.com/CSSEGISandData/COVID-19/master/csse_covid_19_data/csse_covid_19_time_series/time_series_covid19_deaths_global.csv'\n",
    "\n",
    "\n",
    "def main(): \n",
    "    r = requests.get(URL)\n",
    "\n",
    "    if r.status_code == 200:\n",
    "        with open('data/covid19_deaths.csv', 'wb') as csv: \n",
    "            csv.write(r.content)\n",
    "        \n",
    "    else:\n",
    "        print('Link invalid')\n",
    "        \n",
    "        \n",
    "if __name__=='__main__': \n",
    "    main()\n",
    "```\n",
    "\n",
    "or run this in terminal `wget https://raw.githubusercontent.com/CSSEGISandData/COVID-19/master/csse_covid_19_data/csse_covid_19_time_series/time_series_covid19_deaths_global.csv`"
   ]
  },
  {
   "cell_type": "code",
   "execution_count": 10,
   "metadata": {},
   "outputs": [],
   "source": [
    "import pandas as pd \n",
    "import psycopg2 as pg\n",
    "from psycopg2.extras import execute_values "
   ]
  },
  {
   "cell_type": "code",
   "execution_count": 2,
   "metadata": {},
   "outputs": [],
   "source": [
    "#Read csv\n",
    "df = pd.read_csv('../data/covid19_deaths.csv')"
   ]
  },
  {
   "cell_type": "markdown",
   "metadata": {},
   "source": [
    "Location of the csv is relative to the notebook. \n",
    "For a data science project repo, I organize the directories into:\n",
    "- **data** for data, but also further divided into `00_raw`, `01_inter` and `02_processed`\n",
    "- **notebooks** for jupyter exploration \n",
    "- **src** for script, further divided into `data`, `etl`, `train`, `deploy`"
   ]
  },
  {
   "cell_type": "markdown",
   "metadata": {},
   "source": [
    "### 2. Python: Convert the table so that each country and each day is a separate row "
   ]
  },
  {
   "cell_type": "code",
   "execution_count": 3,
   "metadata": {},
   "outputs": [],
   "source": [
    "df.columns = df.columns.str.lower()\n",
    "date_cols = list(df.columns[4:])\n",
    "#drop lat,long for now since we are not using it for this case \n",
    "df_long = df.drop(columns=['lat','long'],axis=1)\n",
    "\n",
    "df_pivoted = pd.melt(df_long.reset_index(),\\\n",
    "                     id_vars=['country/region', 'province/state'],\\\n",
    "                     value_vars=date_cols,var_name='date',\\\n",
    "                     value_name='deaths')"
   ]
  },
  {
   "cell_type": "code",
   "execution_count": 4,
   "metadata": {},
   "outputs": [
    {
     "data": {
      "text/html": [
       "<div>\n",
       "<style scoped>\n",
       "    .dataframe tbody tr th:only-of-type {\n",
       "        vertical-align: middle;\n",
       "    }\n",
       "\n",
       "    .dataframe tbody tr th {\n",
       "        vertical-align: top;\n",
       "    }\n",
       "\n",
       "    .dataframe thead th {\n",
       "        text-align: right;\n",
       "    }\n",
       "</style>\n",
       "<table border=\"1\" class=\"dataframe\">\n",
       "  <thead>\n",
       "    <tr style=\"text-align: right;\">\n",
       "      <th></th>\n",
       "      <th>country/region</th>\n",
       "      <th>province/state</th>\n",
       "      <th>date</th>\n",
       "      <th>deaths</th>\n",
       "    </tr>\n",
       "  </thead>\n",
       "  <tbody>\n",
       "    <tr>\n",
       "      <th>12277</th>\n",
       "      <td>Luxembourg</td>\n",
       "      <td>NaN</td>\n",
       "      <td>3/9/20</td>\n",
       "      <td>0</td>\n",
       "    </tr>\n",
       "    <tr>\n",
       "      <th>16105</th>\n",
       "      <td>France</td>\n",
       "      <td>Guadeloupe</td>\n",
       "      <td>3/24/20</td>\n",
       "      <td>1</td>\n",
       "    </tr>\n",
       "    <tr>\n",
       "      <th>2117</th>\n",
       "      <td>China</td>\n",
       "      <td>Gansu</td>\n",
       "      <td>1/30/20</td>\n",
       "      <td>0</td>\n",
       "    </tr>\n",
       "    <tr>\n",
       "      <th>5543</th>\n",
       "      <td>Guyana</td>\n",
       "      <td>NaN</td>\n",
       "      <td>2/12/20</td>\n",
       "      <td>0</td>\n",
       "    </tr>\n",
       "    <tr>\n",
       "      <th>6186</th>\n",
       "      <td>MS Zaandam</td>\n",
       "      <td>NaN</td>\n",
       "      <td>2/14/20</td>\n",
       "      <td>0</td>\n",
       "    </tr>\n",
       "  </tbody>\n",
       "</table>\n",
       "</div>"
      ],
      "text/plain": [
       "      country/region province/state     date  deaths\n",
       "12277     Luxembourg            NaN   3/9/20       0\n",
       "16105         France     Guadeloupe  3/24/20       1\n",
       "2117           China          Gansu  1/30/20       0\n",
       "5543          Guyana            NaN  2/12/20       0\n",
       "6186      MS Zaandam            NaN  2/14/20       0"
      ]
     },
     "execution_count": 4,
     "metadata": {},
     "output_type": "execute_result"
    }
   ],
   "source": [
    "df_pivoted.sample(5)"
   ]
  },
  {
   "cell_type": "code",
   "execution_count": 11,
   "metadata": {},
   "outputs": [],
   "source": [
    "# Calculate change in deaths\n",
    "df_pivoted['date'] = pd.to_datetime(df_pivoted['date']).dt.date\n",
    "df_pivoted['deaths_change'] = df_pivoted.groupby('country/region')['deaths'].diff()\n",
    "#Deal with null values for SQL insert later\n",
    "processed_df = df_pivoted.where(pd.notna(df_pivoted),None)"
   ]
  },
  {
   "cell_type": "code",
   "execution_count": 6,
   "metadata": {},
   "outputs": [
    {
     "data": {
      "text/html": [
       "<div>\n",
       "<style scoped>\n",
       "    .dataframe tbody tr th:only-of-type {\n",
       "        vertical-align: middle;\n",
       "    }\n",
       "\n",
       "    .dataframe tbody tr th {\n",
       "        vertical-align: top;\n",
       "    }\n",
       "\n",
       "    .dataframe thead th {\n",
       "        text-align: right;\n",
       "    }\n",
       "</style>\n",
       "<table border=\"1\" class=\"dataframe\">\n",
       "  <thead>\n",
       "    <tr style=\"text-align: right;\">\n",
       "      <th></th>\n",
       "      <th>country/region</th>\n",
       "      <th>province/state</th>\n",
       "      <th>date</th>\n",
       "      <th>deaths</th>\n",
       "      <th>deaths_change</th>\n",
       "    </tr>\n",
       "  </thead>\n",
       "  <tbody>\n",
       "    <tr>\n",
       "      <th>5752</th>\n",
       "      <td>China</td>\n",
       "      <td>Sichuan</td>\n",
       "      <td>2020-02-13</td>\n",
       "      <td>1</td>\n",
       "      <td>1</td>\n",
       "    </tr>\n",
       "    <tr>\n",
       "      <th>1605</th>\n",
       "      <td>China</td>\n",
       "      <td>Hainan</td>\n",
       "      <td>2020-01-28</td>\n",
       "      <td>1</td>\n",
       "      <td>1</td>\n",
       "    </tr>\n",
       "    <tr>\n",
       "      <th>5564</th>\n",
       "      <td>Latvia</td>\n",
       "      <td>None</td>\n",
       "      <td>2020-02-12</td>\n",
       "      <td>0</td>\n",
       "      <td>0</td>\n",
       "    </tr>\n",
       "    <tr>\n",
       "      <th>16981</th>\n",
       "      <td>Trinidad and Tobago</td>\n",
       "      <td>None</td>\n",
       "      <td>2020-03-27</td>\n",
       "      <td>2</td>\n",
       "      <td>1</td>\n",
       "    </tr>\n",
       "    <tr>\n",
       "      <th>12847</th>\n",
       "      <td>Sweden</td>\n",
       "      <td>None</td>\n",
       "      <td>2020-03-11</td>\n",
       "      <td>1</td>\n",
       "      <td>1</td>\n",
       "    </tr>\n",
       "    <tr>\n",
       "      <th>17259</th>\n",
       "      <td>Canada</td>\n",
       "      <td>Diamond Princess</td>\n",
       "      <td>2020-03-28</td>\n",
       "      <td>1</td>\n",
       "      <td>1</td>\n",
       "    </tr>\n",
       "    <tr>\n",
       "      <th>9546</th>\n",
       "      <td>Afghanistan</td>\n",
       "      <td>None</td>\n",
       "      <td>2020-02-28</td>\n",
       "      <td>0</td>\n",
       "      <td>0</td>\n",
       "    </tr>\n",
       "    <tr>\n",
       "      <th>17362</th>\n",
       "      <td>China</td>\n",
       "      <td>Sichuan</td>\n",
       "      <td>2020-03-29</td>\n",
       "      <td>3</td>\n",
       "      <td>3</td>\n",
       "    </tr>\n",
       "    <tr>\n",
       "      <th>13724</th>\n",
       "      <td>China</td>\n",
       "      <td>Beijing</td>\n",
       "      <td>2020-03-15</td>\n",
       "      <td>8</td>\n",
       "      <td>2</td>\n",
       "    </tr>\n",
       "    <tr>\n",
       "      <th>16646</th>\n",
       "      <td>Iraq</td>\n",
       "      <td>None</td>\n",
       "      <td>2020-03-26</td>\n",
       "      <td>36</td>\n",
       "      <td>7</td>\n",
       "    </tr>\n",
       "  </tbody>\n",
       "</table>\n",
       "</div>"
      ],
      "text/plain": [
       "            country/region    province/state        date  deaths deaths_change\n",
       "5752                 China           Sichuan  2020-02-13       1             1\n",
       "1605                 China            Hainan  2020-01-28       1             1\n",
       "5564                Latvia              None  2020-02-12       0             0\n",
       "16981  Trinidad and Tobago              None  2020-03-27       2             1\n",
       "12847               Sweden              None  2020-03-11       1             1\n",
       "17259               Canada  Diamond Princess  2020-03-28       1             1\n",
       "9546           Afghanistan              None  2020-02-28       0             0\n",
       "17362                China           Sichuan  2020-03-29       3             3\n",
       "13724                China           Beijing  2020-03-15       8             2\n",
       "16646                 Iraq              None  2020-03-26      36             7"
      ]
     },
     "execution_count": 6,
     "metadata": {},
     "output_type": "execute_result"
    }
   ],
   "source": [
    "processed_df.sample(10)"
   ]
  },
  {
   "cell_type": "markdown",
   "metadata": {},
   "source": [
    "### 3.  Python: Provide code to upload the table from step 3 into an SQL table named deaths_total\n",
    "\n",
    "Instruction says **Step 3** but I believe there was a typo and it actually meant **step 2**"
   ]
  },
  {
   "cell_type": "markdown",
   "metadata": {},
   "source": [
    "Assuming postgres is the database being used"
   ]
  },
  {
   "cell_type": "code",
   "execution_count": null,
   "metadata": {},
   "outputs": [],
   "source": [
    "#example conn\n",
    "conn = pg.connect(dbname='postgres', port=5432, host='localhost') # add options=f\"-c search_path={schema_name}\" as kwargs if db is using a non-public schema, which we should\n",
    "cur = conn.cursor()"
   ]
  },
  {
   "cell_type": "code",
   "execution_count": 2,
   "metadata": {},
   "outputs": [],
   "source": [
    "drop_deaths_total_table = \"\"\"DROP TABLE IF EXISTS deaths_total\"\"\"  #dropdead\n",
    "\n",
    "create_deaths_total_table = \"\"\"CREATE TABLE IF NOT EXISTS deaths_total(\n",
    "id serial PRIMARY KEY\n",
    ", country VARCHAR(128)\n",
    ", province VARCHAR(128)\n",
    ", date DATE\n",
    ", deaths INT)\"\"\""
   ]
  },
  {
   "cell_type": "code",
   "execution_count": null,
   "metadata": {},
   "outputs": [],
   "source": [
    "#Drop table\n",
    "cur.execute(drop_deaths_total)\n",
    "conn.commit()"
   ]
  },
  {
   "cell_type": "code",
   "execution_count": null,
   "metadata": {},
   "outputs": [],
   "source": [
    "#Create table\n",
    "cur.execute(create_deaths_total)\n",
    "conn.commit()"
   ]
  },
  {
   "cell_type": "markdown",
   "metadata": {},
   "source": [
    "There are multiple ways to do it, the best/fastest way is to use `execute_values` in `psycopg2.extras`"
   ]
  },
  {
   "cell_type": "markdown",
   "metadata": {},
   "source": [
    "First method using `execute`\n",
    "```python\n",
    "for values in processed_df.values: \n",
    "    cur.execute(\"INSERT INTO deaths_total (country,province,date,deaths) VALUES (%s, %s, %s, %s)\",(values))\n",
    "conn.commit()\n",
    "```\n",
    "At 1.7s+ "
   ]
  },
  {
   "cell_type": "markdown",
   "metadata": {},
   "source": [
    "Second method using `executemany`\n",
    "```python\n",
    "cur.executemany(\"INSERT INTO deaths_total (country,province,date,deaths) VALUES (%s, %s, %s, %s)\",(processed_df.values.tolist()))\n",
    "conn.commit()\n",
    "```\n",
    "At 1.7s+ "
   ]
  },
  {
   "cell_type": "markdown",
   "metadata": {},
   "source": [
    "Third method using `execute_values`\n",
    "```python\n",
    "execute_values(cur,\"INSERT INTO deaths_total (country,province,date,deaths) VALUES %s\",(processed_df.values.tolist()))\n",
    "conn.commit()\n",
    "```\n",
    "this method is the fastest averaging 400ms "
   ]
  },
  {
   "cell_type": "markdown",
   "metadata": {},
   "source": [
    "One other method that is more convenient using pandas `to_sql` but it requires sqlalchemy engine and it's essentially `execute` \n",
    "```python\n",
    "processed_df.to_sql('deaths_total', conn)\n",
    "```"
   ]
  },
  {
   "cell_type": "code",
   "execution_count": null,
   "metadata": {},
   "outputs": [],
   "source": [
    "# I truncated the table to test with %%timeit\n",
    "cur.execute(\"TRUNCATE deaths_total RESTART IDENTITY\")\n",
    "conn.commit()"
   ]
  },
  {
   "cell_type": "markdown",
   "metadata": {},
   "source": [
    "### 4.  Python: From the data in step 2, calculate the daily change in deaths for each country\n",
    "\n",
    "- Data cleaning is done at one go above. `processed_df` is the processed data"
   ]
  },
  {
   "cell_type": "markdown",
   "metadata": {},
   "source": [
    "### 5.  Python: Provide code to upload the table from step 4 into an SQL table named deaths_change_python"
   ]
  },
  {
   "cell_type": "code",
   "execution_count": 7,
   "metadata": {},
   "outputs": [],
   "source": [
    "death_changes_total = \"\"\"CREATE TABLE IF NOT EXISTS deaths_change_total(id serial PRIMARY KEY,\n",
    "country varchar(128),\n",
    "province varchar(128),\n",
    "date DATE, \n",
    "deaths INT,\n",
    "change INT)\"\"\""
   ]
  },
  {
   "cell_type": "code",
   "execution_count": 8,
   "metadata": {},
   "outputs": [],
   "source": [
    "drop_death_change_total = \"\"\"DROP TABLE IF EXISTS deaths_change_total\"\"\""
   ]
  },
  {
   "cell_type": "code",
   "execution_count": null,
   "metadata": {},
   "outputs": [],
   "source": [
    "cur.execute(drop_death_change_total)\n",
    "conn.commit()"
   ]
  },
  {
   "cell_type": "code",
   "execution_count": null,
   "metadata": {},
   "outputs": [],
   "source": [
    "cur.execute(death_changes_total)\n",
    "conn.commit()"
   ]
  },
  {
   "cell_type": "markdown",
   "metadata": {},
   "source": [
    "Fastest method"
   ]
  },
  {
   "cell_type": "markdown",
   "metadata": {},
   "source": [
    "```python\n",
    "execute_values(cur, \"INSERT INTO deaths_change_total(country,province,date,deaths,change) VALUES %s\", processed_df.values.tolist())\n",
    "```"
   ]
  },
  {
   "cell_type": "markdown",
   "metadata": {},
   "source": [
    "### 6. SQL \n",
    "- Provide SQL code to calculate the daily change for each country using only the data from `deaths_total` and save it into an SQL table named `deaths_change_sql`\n",
    "\n",
    "```sql\n",
    "INSERT INTO deaths_change_sql(country,province,date,deaths,change) \n",
    "SELECT country\n",
    ", province\n",
    ", date\n",
    ", deaths\n",
    ", deaths - LAG(deaths,1) OVER (PARTITION BY country,province ORDER BY date) AS change \n",
    "FROM deaths_total\n",
    "```"
   ]
  }
 ],
 "metadata": {
  "kernelspec": {
   "display_name": "Python 3",
   "language": "python",
   "name": "python3"
  },
  "language_info": {
   "codemirror_mode": {
    "name": "ipython",
    "version": 3
   },
   "file_extension": ".py",
   "mimetype": "text/x-python",
   "name": "python",
   "nbconvert_exporter": "python",
   "pygments_lexer": "ipython3",
   "version": "3.7.6"
  }
 },
 "nbformat": 4,
 "nbformat_minor": 4
}
